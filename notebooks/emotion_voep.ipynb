{
 "cells": [
  {
   "cell_type": "code",
   "execution_count": 35,
   "metadata": {},
   "outputs": [],
   "source": [
    "import torch\n",
    "import os\n",
    "import pandas as pd\n",
    "import seaborn as sns\n",
    "from transformers import AutoTokenizer, RobertaForSequenceClassification"
   ]
  },
  {
   "cell_type": "code",
   "execution_count": 3,
   "metadata": {},
   "outputs": [
    {
     "name": "stderr",
     "output_type": "stream",
     "text": [
      "/home/volter/.pyenv/versions/3.10.6/envs/project_name/lib/python3.10/site-packages/tqdm/auto.py:21: TqdmWarning: IProgress not found. Please update jupyter and ipywidgets. See https://ipywidgets.readthedocs.io/en/stable/user_install.html\n",
      "  from .autonotebook import tqdm as notebook_tqdm\n",
      "Downloading (…)lve/main/config.json: 100%|██████████| 768/768 [00:00<00:00, 1.41MB/s]\n",
      "Downloading (…)olve/main/vocab.json: 100%|██████████| 899k/899k [00:00<00:00, 2.34MB/s]\n",
      "Downloading (…)olve/main/merges.txt: 100%|██████████| 456k/456k [00:00<00:00, 3.03MB/s]\n",
      "Downloading (…)cial_tokens_map.json: 100%|██████████| 150/150 [00:00<00:00, 208kB/s]\n",
      "Downloading pytorch_model.bin: 100%|██████████| 499M/499M [01:51<00:00, 4.49MB/s] \n"
     ]
    },
    {
     "data": {
      "text/plain": [
       "'optimism'"
      ]
     },
     "execution_count": 3,
     "metadata": {},
     "output_type": "execute_result"
    }
   ],
   "source": [
    "\n",
    "\n",
    "tokenizer = AutoTokenizer.from_pretrained(\"cardiffnlp/twitter-roberta-base-emotion\")\n",
    "\n",
    "model = RobertaForSequenceClassification.from_pretrained(\"cardiffnlp/twitter-roberta-base-emotion\")\n",
    "\n",
    "inputs = tokenizer(\"Hello, my dog is cute\", return_tensors=\"pt\")\n",
    "\n",
    "with torch.no_grad():\n",
    "\n",
    "    logits = model(**inputs).logits\n",
    "    \n",
    "\n",
    "predicted_class_id = logits.argmax().item()\n",
    "\n",
    "model.config.id2label[predicted_class_id]"
   ]
  },
  {
   "cell_type": "code",
   "execution_count": 16,
   "metadata": {},
   "outputs": [],
   "source": [
    "def yield_prediction(comment:str)->str:\n",
    "    inputs = tokenizer(comment, return_tensors=\"pt\")\n",
    "    with torch.no_grad():\n",
    "        logits = model(**inputs).logits\n",
    "    predicted_class_id = logits.argmax().item()\n",
    "    return model.config.id2label[predicted_class_id]"
   ]
  },
  {
   "cell_type": "code",
   "execution_count": 9,
   "metadata": {},
   "outputs": [
    {
     "data": {
      "text/html": [
       "<div>\n",
       "<style scoped>\n",
       "    .dataframe tbody tr th:only-of-type {\n",
       "        vertical-align: middle;\n",
       "    }\n",
       "\n",
       "    .dataframe tbody tr th {\n",
       "        vertical-align: top;\n",
       "    }\n",
       "\n",
       "    .dataframe thead th {\n",
       "        text-align: right;\n",
       "    }\n",
       "</style>\n",
       "<table border=\"1\" class=\"dataframe\">\n",
       "  <thead>\n",
       "    <tr style=\"text-align: right;\">\n",
       "      <th></th>\n",
       "      <th>comment_id</th>\n",
       "      <th>body</th>\n",
       "      <th>score</th>\n",
       "    </tr>\n",
       "  </thead>\n",
       "  <tbody>\n",
       "    <tr>\n",
       "      <th>0</th>\n",
       "      <td>cza1q49</td>\n",
       "      <td>&gt; The difference in average earnings between m...</td>\n",
       "      <td>-0.083</td>\n",
       "    </tr>\n",
       "    <tr>\n",
       "      <th>1</th>\n",
       "      <td>cza1wdh</td>\n",
       "      <td>The myth is that the \"gap\" is entirely based o...</td>\n",
       "      <td>-0.022</td>\n",
       "    </tr>\n",
       "    <tr>\n",
       "      <th>3</th>\n",
       "      <td>cza2bw8</td>\n",
       "      <td>The assertion is that women get paid less for ...</td>\n",
       "      <td>-0.146</td>\n",
       "    </tr>\n",
       "    <tr>\n",
       "      <th>4</th>\n",
       "      <td>cza2iji</td>\n",
       "      <td>You said in the OP that's not what they're mea...</td>\n",
       "      <td>-0.083</td>\n",
       "    </tr>\n",
       "    <tr>\n",
       "      <th>5</th>\n",
       "      <td>cza2jj3</td>\n",
       "      <td>&gt;Men and women are not payed less for the same...</td>\n",
       "      <td>-0.042</td>\n",
       "    </tr>\n",
       "    <tr>\n",
       "      <th>6</th>\n",
       "      <td>cza31e2</td>\n",
       "      <td>&gt; All the wage gap is, is an average of total ...</td>\n",
       "      <td>-0.021</td>\n",
       "    </tr>\n",
       "    <tr>\n",
       "      <th>11</th>\n",
       "      <td>cza37ue</td>\n",
       "      <td>No, the point is they aren't talking about dis...</td>\n",
       "      <td>-0.174</td>\n",
       "    </tr>\n",
       "    <tr>\n",
       "      <th>13</th>\n",
       "      <td>cza392y</td>\n",
       "      <td>So women are paid less for the same job?</td>\n",
       "      <td>-0.229</td>\n",
       "    </tr>\n",
       "    <tr>\n",
       "      <th>16</th>\n",
       "      <td>cza3m1b</td>\n",
       "      <td>But obviously that doesn't make sense, does it...</td>\n",
       "      <td>0.000</td>\n",
       "    </tr>\n",
       "    <tr>\n",
       "      <th>17</th>\n",
       "      <td>cza3r5u</td>\n",
       "      <td>I think that Hollywood and professional sports...</td>\n",
       "      <td>0.098</td>\n",
       "    </tr>\n",
       "  </tbody>\n",
       "</table>\n",
       "</div>"
      ],
      "text/plain": [
       "   comment_id                                               body  score\n",
       "0     cza1q49  > The difference in average earnings between m... -0.083\n",
       "1     cza1wdh  The myth is that the \"gap\" is entirely based o... -0.022\n",
       "3     cza2bw8  The assertion is that women get paid less for ... -0.146\n",
       "4     cza2iji  You said in the OP that's not what they're mea... -0.083\n",
       "5     cza2jj3  >Men and women are not payed less for the same... -0.042\n",
       "6     cza31e2  > All the wage gap is, is an average of total ... -0.021\n",
       "11    cza37ue  No, the point is they aren't talking about dis... -0.174\n",
       "13    cza392y           So women are paid less for the same job? -0.229\n",
       "16    cza3m1b  But obviously that doesn't make sense, does it...  0.000\n",
       "17    cza3r5u  I think that Hollywood and professional sports...  0.098"
      ]
     },
     "execution_count": 9,
     "metadata": {},
     "output_type": "execute_result"
    }
   ],
   "source": [
    "data_path = os.path.join(os.pardir, 'raw_data', 'ruddit_comments_score.csv')\n",
    "df = pd.read_csv(data_path)\n",
    "df=df[df[\"body\"]!=\"[deleted]\"]\n",
    "df.head(10)"
   ]
  },
  {
   "cell_type": "code",
   "execution_count": 20,
   "metadata": {},
   "outputs": [
    {
     "name": "stderr",
     "output_type": "stream",
     "text": [
      "/tmp/ipykernel_6361/479452405.py:2: SettingWithCopyWarning: \n",
      "A value is trying to be set on a copy of a slice from a DataFrame.\n",
      "Try using .loc[row_indexer,col_indexer] = value instead\n",
      "\n",
      "See the caveats in the documentation: https://pandas.pydata.org/pandas-docs/stable/user_guide/indexing.html#returning-a-view-versus-a-copy\n",
      "  first_1000[\"emotions\"]=first_1000[\"body\"].apply(yield_prediction)\n"
     ]
    }
   ],
   "source": [
    "first_1000=df.head(1000)\n",
    "first_1000[\"emotions\"]=first_1000[\"body\"].apply(yield_prediction)\n"
   ]
  },
  {
   "cell_type": "code",
   "execution_count": 39,
   "metadata": {},
   "outputs": [
    {
     "data": {
      "text/plain": [
       "emotions\n",
       "anger       188\n",
       "joy         635\n",
       "optimism     69\n",
       "sadness     108\n",
       "Name: comment_id, dtype: int64"
      ]
     },
     "execution_count": 39,
     "metadata": {},
     "output_type": "execute_result"
    }
   ],
   "source": [
    "first_1000.groupby(\"emotions\").count()[\"comment_id\"]"
   ]
  },
  {
   "cell_type": "code",
   "execution_count": 44,
   "metadata": {},
   "outputs": [
    {
     "name": "stdout",
     "output_type": "stream",
     "text": [
      "Coyotes and wolves are pack hunters so it is unlikely that you would come across just one. Dogs, coyotes, and wolves have fangs and claws and you do not. They will always go for the weakest part and then All they have to do is get in one bite and hold on with their super strong jaws and shake. And no matter how speedy you are, they are faster. The only way a large stick could help is if you throw it.\n",
      "The problem is that wolfs generally hunt in packs so even if you got one down the other would team up on you\n",
      "You are actually spot on here. I ha e stopped claiming I’m part of one political party for this reason.\n",
      "Walmart does not pay a sales tax. \n",
      "I've never seen people kneel during services for veterans, such as military funerals.  They give the military salute.\n",
      "Viewership is going up? When did this happen? \n",
      "You should post your problem to /r/redesign, it's the place for everything related to the new design.\n",
      "\n",
      "I haven't heard anyone having the problems you are having, so it is almost certainly related to your system and/or the extensions you have installed.\n",
      "\n",
      "edit: i see you are using Safari on iOS so first of all, don't ever use Safari. Use Chrome instead. That will probably fix your problem.\n",
      "But it seems like they’re eventually planning on adding it back, no? So this complaint shouldn’t be permanent.\n",
      "Dragon flies can't live in your house and they need bodies of water.\n",
      "Spiders eat them, there for spiders win.\n",
      "What's wrong with soy? \n",
      "What country are these terms used?\n",
      "ITT: People explaining how economics is supposed to work, not how it works\n",
      "Marshmallows being disgusting is entirely a point of taste.  I happen to love them.\n",
      "Marshmallow superiority is highly dependent on taste too so the entire premise is a wash?\n",
      "As OP has stated, they like the taste of both whipped cream and marshmallows so taste of additive is not relevant for this CMV.  Stop changing the basis of the argument, this is simply whipped cream vs. marshmallows for practical addition to hot chocolate. \n",
      "I think you're missing the point of this CMV. Look back at the title of the post. This is for discussion of whipped cream vs. marshmallows, nothing else. \n"
     ]
    },
    {
     "name": "stderr",
     "output_type": "stream",
     "text": [
      "/home/volter/.pyenv/versions/3.10.6/envs/project_name/lib/python3.10/site-packages/seaborn/_oldcore.py:1498: FutureWarning: is_categorical_dtype is deprecated and will be removed in a future version. Use isinstance(dtype, CategoricalDtype) instead\n",
      "  if pd.api.types.is_categorical_dtype(vector):\n",
      "/home/volter/.pyenv/versions/3.10.6/envs/project_name/lib/python3.10/site-packages/seaborn/_oldcore.py:1119: FutureWarning: use_inf_as_na option is deprecated and will be removed in a future version. Convert inf values to NaN before operating instead.\n",
      "  with pd.option_context('mode.use_inf_as_na', True):\n"
     ]
    },
    {
     "data": {
      "image/png": "[encoded data removed]",
      "text/plain": [
       "<Figure size 640x480 with 1 Axes>"
      ]
     },
     "metadata": {},
     "output_type": "display_data"
    }
   ],
   "source": [
    "sns.histplot(data=first_1000[first_1000[\"emotions\"]==\"joy\"],x=\"score\")\n",
    "for i in first_1000[(first_1000[\"emotions\"]==\"joy\") & (first_1000[\"score\"]<-0.4)][\"body\"]:\n",
    "    print(i)"
   ]
  }
 ],
 "metadata": {
  "kernelspec": {
   "display_name": "project_name",
   "language": "python",
   "name": "python3"
  },
  "language_info": {
   "codemirror_mode": {
    "name": "ipython",
    "version": 3
   },
   "file_extension": ".py",
   "mimetype": "text/x-python",
   "name": "python",
   "nbconvert_exporter": "python",
   "pygments_lexer": "ipython3",
   "version": "3.10.6"
  },
  "orig_nbformat": 4
 },
 "nbformat": 4,
 "nbformat_minor": 2
}

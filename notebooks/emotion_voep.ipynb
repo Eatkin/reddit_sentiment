{
 "cells": [
  {
   "cell_type": "markdown",
   "metadata": {},
   "source": [
    "## This notebook shows the performance of a model that predicts emotion from text.\n",
    "In the imports for huggingface it seems pytorch is needed."
   ]
  },
  {
   "cell_type": "code",
   "execution_count": 2,
   "metadata": {},
   "outputs": [
    {
     "name": "stderr",
     "output_type": "stream",
     "text": [
      "/home/volter/.pyenv/versions/3.10.6/envs/project_name/lib/python3.10/site-packages/tqdm/auto.py:21: TqdmWarning: IProgress not found. Please update jupyter and ipywidgets. See https://ipywidgets.readthedocs.io/en/stable/user_install.html\n",
      "  from .autonotebook import tqdm as notebook_tqdm\n"
     ]
    }
   ],
   "source": [
    "import torch\n",
    "import os\n",
    "import pandas as pd\n",
    "import seaborn as sns\n",
    "from transformers import AutoTokenizer, RobertaForSequenceClassification"
   ]
  },
  {
   "cell_type": "code",
   "execution_count": 3,
   "metadata": {},
   "outputs": [
    {
     "data": {
      "text/plain": [
       "'optimism'"
      ]
     },
     "execution_count": 3,
     "metadata": {},
     "output_type": "execute_result"
    }
   ],
   "source": [
    "##Import model, tokenizer etc.\n",
    "\n",
    "tokenizer = AutoTokenizer.from_pretrained(\"cardiffnlp/twitter-roberta-base-emotion\")\n",
    "\n",
    "model = RobertaForSequenceClassification.from_pretrained(\"cardiffnlp/twitter-roberta-base-emotion\")\n",
    "\n",
    "\n",
    "##Test on a string\n",
    "inputs = tokenizer(\"Hello, my dog is cute\", return_tensors=\"pt\")\n",
    "with torch.no_grad():\n",
    "\n",
    "    logits = model(**inputs).logits\n",
    "    \n",
    "predicted_class_id = logits.argmax().item()\n",
    "\n",
    "model.config.id2label[predicted_class_id]\n",
    "##Returns emotion optimism"
   ]
  },
  {
   "cell_type": "markdown",
   "metadata": {},
   "source": [
    "## Below we define functions to get the emotion as well as the maximum value that related to the prediction (float)"
   ]
  },
  {
   "cell_type": "code",
   "execution_count": 21,
   "metadata": {},
   "outputs": [],
   "source": [
    "def yield_prediction(comment:str)->str:\n",
    "    inputs = tokenizer(comment, return_tensors=\"pt\")\n",
    "    with torch.no_grad():\n",
    "        logits = model(**inputs).logits\n",
    "    predicted_class_id = logits.argmax().item()\n",
    "    return model.config.id2label[predicted_class_id]\n",
    "\n",
    "def yield_prediction_confidence(comment:str)->str:\n",
    "    inputs = tokenizer(comment, return_tensors=\"pt\")\n",
    "    with torch.no_grad():\n",
    "        logits = model(**inputs).logits\n",
    "    return logits.amax()"
   ]
  },
  {
   "cell_type": "markdown",
   "metadata": {},
   "source": [
    "### We load ruddit for testing"
   ]
  },
  {
   "cell_type": "code",
   "execution_count": 5,
   "metadata": {},
   "outputs": [
    {
     "data": {
      "text/html": [
       "<div>\n",
       "<style scoped>\n",
       "    .dataframe tbody tr th:only-of-type {\n",
       "        vertical-align: middle;\n",
       "    }\n",
       "\n",
       "    .dataframe tbody tr th {\n",
       "        vertical-align: top;\n",
       "    }\n",
       "\n",
       "    .dataframe thead th {\n",
       "        text-align: right;\n",
       "    }\n",
       "</style>\n",
       "<table border=\"1\" class=\"dataframe\">\n",
       "  <thead>\n",
       "    <tr style=\"text-align: right;\">\n",
       "      <th></th>\n",
       "      <th>comment_id</th>\n",
       "      <th>body</th>\n",
       "      <th>score</th>\n",
       "    </tr>\n",
       "  </thead>\n",
       "  <tbody>\n",
       "    <tr>\n",
       "      <th>0</th>\n",
       "      <td>cza1q49</td>\n",
       "      <td>&gt; The difference in average earnings between m...</td>\n",
       "      <td>-0.083</td>\n",
       "    </tr>\n",
       "    <tr>\n",
       "      <th>1</th>\n",
       "      <td>cza1wdh</td>\n",
       "      <td>The myth is that the \"gap\" is entirely based o...</td>\n",
       "      <td>-0.022</td>\n",
       "    </tr>\n",
       "    <tr>\n",
       "      <th>3</th>\n",
       "      <td>cza2bw8</td>\n",
       "      <td>The assertion is that women get paid less for ...</td>\n",
       "      <td>-0.146</td>\n",
       "    </tr>\n",
       "    <tr>\n",
       "      <th>4</th>\n",
       "      <td>cza2iji</td>\n",
       "      <td>You said in the OP that's not what they're mea...</td>\n",
       "      <td>-0.083</td>\n",
       "    </tr>\n",
       "    <tr>\n",
       "      <th>5</th>\n",
       "      <td>cza2jj3</td>\n",
       "      <td>&gt;Men and women are not payed less for the same...</td>\n",
       "      <td>-0.042</td>\n",
       "    </tr>\n",
       "    <tr>\n",
       "      <th>6</th>\n",
       "      <td>cza31e2</td>\n",
       "      <td>&gt; All the wage gap is, is an average of total ...</td>\n",
       "      <td>-0.021</td>\n",
       "    </tr>\n",
       "    <tr>\n",
       "      <th>11</th>\n",
       "      <td>cza37ue</td>\n",
       "      <td>No, the point is they aren't talking about dis...</td>\n",
       "      <td>-0.174</td>\n",
       "    </tr>\n",
       "    <tr>\n",
       "      <th>13</th>\n",
       "      <td>cza392y</td>\n",
       "      <td>So women are paid less for the same job?</td>\n",
       "      <td>-0.229</td>\n",
       "    </tr>\n",
       "    <tr>\n",
       "      <th>16</th>\n",
       "      <td>cza3m1b</td>\n",
       "      <td>But obviously that doesn't make sense, does it...</td>\n",
       "      <td>0.000</td>\n",
       "    </tr>\n",
       "    <tr>\n",
       "      <th>17</th>\n",
       "      <td>cza3r5u</td>\n",
       "      <td>I think that Hollywood and professional sports...</td>\n",
       "      <td>0.098</td>\n",
       "    </tr>\n",
       "  </tbody>\n",
       "</table>\n",
       "</div>"
      ],
      "text/plain": [
       "   comment_id                                               body  score\n",
       "0     cza1q49  > The difference in average earnings between m... -0.083\n",
       "1     cza1wdh  The myth is that the \"gap\" is entirely based o... -0.022\n",
       "3     cza2bw8  The assertion is that women get paid less for ... -0.146\n",
       "4     cza2iji  You said in the OP that's not what they're mea... -0.083\n",
       "5     cza2jj3  >Men and women are not payed less for the same... -0.042\n",
       "6     cza31e2  > All the wage gap is, is an average of total ... -0.021\n",
       "11    cza37ue  No, the point is they aren't talking about dis... -0.174\n",
       "13    cza392y           So women are paid less for the same job? -0.229\n",
       "16    cza3m1b  But obviously that doesn't make sense, does it...  0.000\n",
       "17    cza3r5u  I think that Hollywood and professional sports...  0.098"
      ]
     },
     "execution_count": 5,
     "metadata": {},
     "output_type": "execute_result"
    }
   ],
   "source": [
    "data_path = os.path.join(os.pardir, 'raw_data', 'ruddit_comments_score.csv')\n",
    "df = pd.read_csv(data_path)\n",
    "df=df[df[\"body\"]!=\"[deleted]\"]\n",
    "df.head(10)"
   ]
  },
  {
   "cell_type": "code",
   "execution_count": 6,
   "metadata": {},
   "outputs": [
    {
     "name": "stderr",
     "output_type": "stream",
     "text": [
      "/tmp/ipykernel_11436/479452405.py:2: SettingWithCopyWarning: \n",
      "A value is trying to be set on a copy of a slice from a DataFrame.\n",
      "Try using .loc[row_indexer,col_indexer] = value instead\n",
      "\n",
      "See the caveats in the documentation: https://pandas.pydata.org/pandas-docs/stable/user_guide/indexing.html#returning-a-view-versus-a-copy\n",
      "  first_1000[\"emotions\"]=first_1000[\"body\"].apply(yield_prediction)\n"
     ]
    }
   ],
   "source": [
    "first_1000=df.head(1000)\n",
    "first_1000[\"emotions\"]=first_1000[\"body\"].apply(yield_prediction)\n"
   ]
  },
  {
   "cell_type": "code",
   "execution_count": 7,
   "metadata": {},
   "outputs": [
    {
     "data": {
      "text/plain": [
       "emotions\n",
       "anger       188\n",
       "joy         635\n",
       "optimism     69\n",
       "sadness     108\n",
       "Name: comment_id, dtype: int64"
      ]
     },
     "execution_count": 7,
     "metadata": {},
     "output_type": "execute_result"
    }
   ],
   "source": [
    "##Count emotions. We notice that at least for the first 1000 joy is overrepresented greatly.\n",
    "first_1000.groupby(\"emotions\").count()[\"comment_id\"]"
   ]
  },
  {
   "cell_type": "markdown",
   "metadata": {},
   "source": [
    "### Then, we take the time to plot and observe the emotions, the comments related to them and how the emotions relate to the scoring in the ruddit set."
   ]
  },
  {
   "cell_type": "code",
   "execution_count": 8,
   "metadata": {},
   "outputs": [
    {
     "name": "stderr",
     "output_type": "stream",
     "text": [
      "/home/volter/.pyenv/versions/3.10.6/envs/project_name/lib/python3.10/site-packages/seaborn/_oldcore.py:1498: FutureWarning: is_categorical_dtype is deprecated and will be removed in a future version. Use isinstance(dtype, CategoricalDtype) instead\n",
      "  if pd.api.types.is_categorical_dtype(vector):\n",
      "/home/volter/.pyenv/versions/3.10.6/envs/project_name/lib/python3.10/site-packages/seaborn/_oldcore.py:1119: FutureWarning: use_inf_as_na option is deprecated and will be removed in a future version. Convert inf values to NaN before operating instead.\n",
      "  with pd.option_context('mode.use_inf_as_na', True):\n"
     ]
    },
    {
     "name": "stdout",
     "output_type": "stream",
     "text": [
      "Coyotes and wolves are pack hunters so it is unlikely that you would come across just one. Dogs, coyotes, and wolves have fangs and claws and you do not. They will always go for the weakest part and then All they have to do is get in one bite and hold on with their super strong jaws and shake. And no matter how speedy you are, they are faster. The only way a large stick could help is if you throw it.\n",
      "The problem is that wolfs generally hunt in packs so even if you got one down the other would team up on you\n",
      "You are actually spot on here. I ha e stopped claiming I’m part of one political party for this reason.\n",
      "Walmart does not pay a sales tax. \n",
      "I've never seen people kneel during services for veterans, such as military funerals.  They give the military salute.\n",
      "Viewership is going up? When did this happen? \n",
      "You should post your problem to /r/redesign, it's the place for everything related to the new design.\n",
      "\n",
      "I haven't heard anyone having the problems you are having, so it is almost certainly related to your system and/or the extensions you have installed.\n",
      "\n",
      "edit: i see you are using Safari on iOS so first of all, don't ever use Safari. Use Chrome instead. That will probably fix your problem.\n",
      "But it seems like they’re eventually planning on adding it back, no? So this complaint shouldn’t be permanent.\n",
      "Dragon flies can't live in your house and they need bodies of water.\n",
      "Spiders eat them, there for spiders win.\n",
      "What's wrong with soy? \n",
      "What country are these terms used?\n",
      "ITT: People explaining how economics is supposed to work, not how it works\n",
      "Marshmallows being disgusting is entirely a point of taste.  I happen to love them.\n",
      "Marshmallow superiority is highly dependent on taste too so the entire premise is a wash?\n",
      "As OP has stated, they like the taste of both whipped cream and marshmallows so taste of additive is not relevant for this CMV.  Stop changing the basis of the argument, this is simply whipped cream vs. marshmallows for practical addition to hot chocolate. \n",
      "I think you're missing the point of this CMV. Look back at the title of the post. This is for discussion of whipped cream vs. marshmallows, nothing else. \n"
     ]
    },
    {
     "data": {
      "image/png": "[encoded data removed]",
      "text/plain": [
       "<Figure size 640x480 with 1 Axes>"
      ]
     },
     "metadata": {},
     "output_type": "display_data"
    }
   ],
   "source": [
    "sns.histplot(data=first_1000[first_1000[\"emotions\"]==\"joy\"],x=\"score\")\n",
    "for i in first_1000[(first_1000[\"emotions\"]==\"joy\") & (first_1000[\"score\"]<-0.4)][\"body\"]:\n",
    "    print(i)"
   ]
  },
  {
   "cell_type": "code",
   "execution_count": 9,
   "metadata": {},
   "outputs": [
    {
     "name": "stderr",
     "output_type": "stream",
     "text": [
      "/home/volter/.pyenv/versions/3.10.6/envs/project_name/lib/python3.10/site-packages/seaborn/_oldcore.py:1498: FutureWarning: is_categorical_dtype is deprecated and will be removed in a future version. Use isinstance(dtype, CategoricalDtype) instead\n",
      "  if pd.api.types.is_categorical_dtype(vector):\n"
     ]
    },
    {
     "name": "stdout",
     "output_type": "stream",
     "text": [
      "No dog's teeth are 3.5 inches long. \n",
      "I was talking about travel. If you don't leave your home you can't travel. \n",
      "He said it was a hypothetical situation.\n",
      "I know. But that it’s such a common part of our social narrative means that those efforts are clearly insufficient. \n",
      "How does one describe an end user on a site such as reddit?\n",
      "Yeah I could have done better\n",
      "But you are still cooling your \"hot\" chocolate with whipped cream. Milk doesn't retain it's heat very well, so you end up with luke warm chocolate milk\n",
      "if you get distracted for some reason (urgent phone call, sudden house fire, etc.) you end up either with a soggy disgusting marshmallow, or creamy warm chocolate, which is still quite nice\n"
     ]
    },
    {
     "name": "stderr",
     "output_type": "stream",
     "text": [
      "/home/volter/.pyenv/versions/3.10.6/envs/project_name/lib/python3.10/site-packages/seaborn/_oldcore.py:1119: FutureWarning: use_inf_as_na option is deprecated and will be removed in a future version. Convert inf values to NaN before operating instead.\n",
      "  with pd.option_context('mode.use_inf_as_na', True):\n"
     ]
    },
    {
     "data": {
      "image/png": "[encoded data removed]",
      "text/plain": [
       "<Figure size 640x480 with 1 Axes>"
      ]
     },
     "metadata": {},
     "output_type": "display_data"
    }
   ],
   "source": [
    "sns.histplot(data=first_1000[first_1000[\"emotions\"]==\"sadness\"],x=\"score\")\n",
    "for i in first_1000[(first_1000[\"emotions\"]==\"sadness\") & (first_1000[\"score\"]<-0.4)][\"body\"]:\n",
    "    print(i)"
   ]
  },
  {
   "cell_type": "code",
   "execution_count": 10,
   "metadata": {},
   "outputs": [
    {
     "name": "stdout",
     "output_type": "stream",
     "text": [
      "So you agree that its not a biological difference.\n",
      "Because it's what commonly happens. There's what can and what is. \n",
      "\n",
      "What is is getting better, but we still have work to do. \n",
      "Can you put the scientific method itself to this test?\n",
      "I'll probably forget but if you know how the remind me thing works feel free to tag this comment and we can continue our discussion\n",
      "Well, there is only one way to REALLY find out!\n",
      "There's no need to exaggerate to make the point. \n",
      "Same goes for humans. Also, we can climb trees\n",
      "My CMV is about safety, not profit. \n",
      "Sure, if it's private, why not?\n",
      "I'd rather see a percentage of stocks go to each household that had their taxes contributed to the stadium or some other structure that allows the people to benefit financially over time.\n",
      "The one argument in favor for taxpayer support for a new stadium: if building the stadium will return economic advantage to the same area in excess of the taxation required (through tourism, jobs, increased property values etc). In addition, if this criteria is met, sometimes cities or states have to competitively support an owner in order for the owner to chose one location over another. \n",
      "Unless it brings in people from elsewhere who spend money there.  Tourism is a thing. \n",
      "I consider myself to be a left leaning independent, if that provides some context. \n",
      "It's not a direct comparison, you're right. \n",
      "That is a much more eloquent way of saying what I was trying to say.  Thanks!\n",
      "But there is a link and accepting one helps the other. I'm not saying it alone will end it. But it certainly helps. \n",
      "The key word you use is reasonably. People expect its but they don't find it reasonable.\n",
      "Not completely open, but a lot more open than they are right now.\n",
      "Lol not gonna try and change your view on this one. You hit the nail on the head. Spot on.\n",
      "Re reading what I wrote, I probably should have said \"essentially dissolved\". Libertarianism is about small, self governed enclaves centred around common belief and behaviour. \n",
      "But imagine if they did. I'd rather have a house dragonfly than a house spider. Just zooming around, eating flies.\n",
      "\n",
      "More seriously though, that's a good point. Protection of personal property is definitely more under the domain of spiders.\n",
      "\n",
      "∆\n",
      "This was a good thread. I appreciate this.\n",
      "I'd be inclined to agree, except they don't eat anywhere as many bugs as spiders.\n",
      "\n",
      "Bees are the real heroes we need. \n",
      "No worries I thought maybe that's what you might have meant but wasn't sure!\n",
      "That's what I see, this isn't even a view, it's an observation.\n",
      "Human disease research helps all animals though\n",
      "This would still be anecdotal, even if I did so. \n"
     ]
    },
    {
     "name": "stderr",
     "output_type": "stream",
     "text": [
      "/home/volter/.pyenv/versions/3.10.6/envs/project_name/lib/python3.10/site-packages/seaborn/_oldcore.py:1498: FutureWarning: is_categorical_dtype is deprecated and will be removed in a future version. Use isinstance(dtype, CategoricalDtype) instead\n",
      "  if pd.api.types.is_categorical_dtype(vector):\n",
      "/home/volter/.pyenv/versions/3.10.6/envs/project_name/lib/python3.10/site-packages/seaborn/_oldcore.py:1119: FutureWarning: use_inf_as_na option is deprecated and will be removed in a future version. Convert inf values to NaN before operating instead.\n",
      "  with pd.option_context('mode.use_inf_as_na', True):\n"
     ]
    },
    {
     "data": {
      "image/png": "[encoded data removed]",
      "text/plain": [
       "<Figure size 640x480 with 1 Axes>"
      ]
     },
     "metadata": {},
     "output_type": "display_data"
    }
   ],
   "source": [
    "sns.histplot(data=first_1000[first_1000[\"emotions\"]==\"anger\"],x=\"score\")\n",
    "for i in first_1000[(first_1000[\"emotions\"]==\"anger\") & (first_1000[\"score\"]<-0.4)][\"body\"]:\n",
    "    print(i)"
   ]
  },
  {
   "cell_type": "markdown",
   "metadata": {},
   "source": [
    "## What we observe is that the comments don't usually display very strong emotions and the emotion itself isn't very indicative of the score in ruddit."
   ]
  }
 ],
 "metadata": {
  "kernelspec": {
   "display_name": "project_name",
   "language": "python",
   "name": "python3"
  },
  "language_info": {
   "codemirror_mode": {
    "name": "ipython",
    "version": 3
   },
   "file_extension": ".py",
   "mimetype": "text/x-python",
   "name": "python",
   "nbconvert_exporter": "python",
   "pygments_lexer": "ipython3",
   "version": "3.10.6"
  },
  "orig_nbformat": 4
 },
 "nbformat": 4,
 "nbformat_minor": 2
}

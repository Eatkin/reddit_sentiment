{
 "cells": [
  {
   "cell_type": "code",
   "execution_count": 12,
   "metadata": {},
   "outputs": [],
   "source": [
    "import numpy as np\n",
    "import pandas as pd\n",
    "import matplotlib.pyplot as plt\n",
    "import seaborn as sns\n",
    "import os"
   ]
  },
  {
   "cell_type": "markdown",
   "metadata": {},
   "source": [
    "# Reddit Toxicity Ratings EDA"
   ]
  },
  {
   "cell_type": "code",
   "execution_count": 13,
   "metadata": {},
   "outputs": [],
   "source": [
    "# Load data\n",
    "data_path = os.path.join(os.pardir, 'raw_data', 'ruddit_comments_score.csv')\n",
    "df = pd.read_csv(data_path)"
   ]
  },
  {
   "cell_type": "code",
   "execution_count": 14,
   "metadata": {},
   "outputs": [
    {
     "data": {
      "text/html": [
       "<div>\n",
       "<style scoped>\n",
       "    .dataframe tbody tr th:only-of-type {\n",
       "        vertical-align: middle;\n",
       "    }\n",
       "\n",
       "    .dataframe tbody tr th {\n",
       "        vertical-align: top;\n",
       "    }\n",
       "\n",
       "    .dataframe thead th {\n",
       "        text-align: right;\n",
       "    }\n",
       "</style>\n",
       "<table border=\"1\" class=\"dataframe\">\n",
       "  <thead>\n",
       "    <tr style=\"text-align: right;\">\n",
       "      <th></th>\n",
       "      <th>comment_id</th>\n",
       "      <th>body</th>\n",
       "      <th>score</th>\n",
       "    </tr>\n",
       "  </thead>\n",
       "  <tbody>\n",
       "    <tr>\n",
       "      <th>0</th>\n",
       "      <td>cza1q49</td>\n",
       "      <td>&gt; The difference in average earnings between m...</td>\n",
       "      <td>-0.083</td>\n",
       "    </tr>\n",
       "    <tr>\n",
       "      <th>1</th>\n",
       "      <td>cza1wdh</td>\n",
       "      <td>The myth is that the \"gap\" is entirely based o...</td>\n",
       "      <td>-0.022</td>\n",
       "    </tr>\n",
       "    <tr>\n",
       "      <th>2</th>\n",
       "      <td>cza23qx</td>\n",
       "      <td>[deleted]</td>\n",
       "      <td>0.167</td>\n",
       "    </tr>\n",
       "    <tr>\n",
       "      <th>3</th>\n",
       "      <td>cza2bw8</td>\n",
       "      <td>The assertion is that women get paid less for ...</td>\n",
       "      <td>-0.146</td>\n",
       "    </tr>\n",
       "    <tr>\n",
       "      <th>4</th>\n",
       "      <td>cza2iji</td>\n",
       "      <td>You said in the OP that's not what they're mea...</td>\n",
       "      <td>-0.083</td>\n",
       "    </tr>\n",
       "  </tbody>\n",
       "</table>\n",
       "</div>"
      ],
      "text/plain": [
       "  comment_id                                               body  score\n",
       "0    cza1q49  > The difference in average earnings between m... -0.083\n",
       "1    cza1wdh  The myth is that the \"gap\" is entirely based o... -0.022\n",
       "2    cza23qx                                          [deleted]  0.167\n",
       "3    cza2bw8  The assertion is that women get paid less for ... -0.146\n",
       "4    cza2iji  You said in the OP that's not what they're mea... -0.083"
      ]
     },
     "execution_count": 14,
     "metadata": {},
     "output_type": "execute_result"
    }
   ],
   "source": [
    "df.head()"
   ]
  },
  {
   "cell_type": "code",
   "execution_count": 15,
   "metadata": {},
   "outputs": [
    {
     "name": "stdout",
     "output_type": "stream",
     "text": [
      "<class 'pandas.core.frame.DataFrame'>\n",
      "RangeIndex: 5966 entries, 0 to 5965\n",
      "Data columns (total 3 columns):\n",
      " #   Column      Non-Null Count  Dtype  \n",
      "---  ------      --------------  -----  \n",
      " 0   comment_id  5966 non-null   object \n",
      " 1   body        5966 non-null   object \n",
      " 2   score       5966 non-null   float64\n",
      "dtypes: float64(1), object(2)\n",
      "memory usage: 140.0+ KB\n"
     ]
    }
   ],
   "source": [
    "df.info()"
   ]
  },
  {
   "cell_type": "code",
   "execution_count": 16,
   "metadata": {},
   "outputs": [
    {
     "data": {
      "text/html": [
       "<div>\n",
       "<style scoped>\n",
       "    .dataframe tbody tr th:only-of-type {\n",
       "        vertical-align: middle;\n",
       "    }\n",
       "\n",
       "    .dataframe tbody tr th {\n",
       "        vertical-align: top;\n",
       "    }\n",
       "\n",
       "    .dataframe thead th {\n",
       "        text-align: right;\n",
       "    }\n",
       "</style>\n",
       "<table border=\"1\" class=\"dataframe\">\n",
       "  <thead>\n",
       "    <tr style=\"text-align: right;\">\n",
       "      <th></th>\n",
       "      <th>score</th>\n",
       "    </tr>\n",
       "  </thead>\n",
       "  <tbody>\n",
       "    <tr>\n",
       "      <th>count</th>\n",
       "      <td>5966.000000</td>\n",
       "    </tr>\n",
       "    <tr>\n",
       "      <th>mean</th>\n",
       "      <td>-0.027558</td>\n",
       "    </tr>\n",
       "    <tr>\n",
       "      <th>std</th>\n",
       "      <td>0.334245</td>\n",
       "    </tr>\n",
       "    <tr>\n",
       "      <th>min</th>\n",
       "      <td>-0.889000</td>\n",
       "    </tr>\n",
       "    <tr>\n",
       "      <th>25%</th>\n",
       "      <td>-0.255000</td>\n",
       "    </tr>\n",
       "    <tr>\n",
       "      <th>50%</th>\n",
       "      <td>-0.062000</td>\n",
       "    </tr>\n",
       "    <tr>\n",
       "      <th>75%</th>\n",
       "      <td>0.167000</td>\n",
       "    </tr>\n",
       "    <tr>\n",
       "      <th>max</th>\n",
       "      <td>0.979000</td>\n",
       "    </tr>\n",
       "  </tbody>\n",
       "</table>\n",
       "</div>"
      ],
      "text/plain": [
       "             score\n",
       "count  5966.000000\n",
       "mean     -0.027558\n",
       "std       0.334245\n",
       "min      -0.889000\n",
       "25%      -0.255000\n",
       "50%      -0.062000\n",
       "75%       0.167000\n",
       "max       0.979000"
      ]
     },
     "execution_count": 16,
     "metadata": {},
     "output_type": "execute_result"
    }
   ],
   "source": [
    "df.describe()"
   ]
  },
  {
   "cell_type": "code",
   "execution_count": 17,
   "metadata": {},
   "outputs": [
    {
     "data": {
      "text/plain": [
       "comment_id    222\n",
       "body          222\n",
       "score         222\n",
       "dtype: int64"
      ]
     },
     "execution_count": 17,
     "metadata": {},
     "output_type": "execute_result"
    }
   ],
   "source": [
    "# Count how many [deleted] comments there are\n",
    "df[df['body'] == '[deleted]'].count()"
   ]
  },
  {
   "cell_type": "code",
   "execution_count": 18,
   "metadata": {},
   "outputs": [],
   "source": [
    "# Might as well drop them because no useful information can be extracted\n",
    "df = df[df['body'] != '[deleted]']"
   ]
  },
  {
   "cell_type": "code",
   "execution_count": 19,
   "metadata": {},
   "outputs": [
    {
     "name": "stdout",
     "output_type": "stream",
     "text": [
      "Sentiment: 0.104\n",
      "Reddit loves this clown, like she is not a politician lying through her teeth. \n",
      "Sentiment: -0.25\n",
      "Say the government puts a price cap on textbooks. You’d get lower textbook prices, sure. But many people who would write a textbook if they could sell it for $100 won’t do it if they now have to sell it for $50. Fewer textbooks written will mean that overall textbook quality will decline. I’m not sure how else you’d regulate textbooks. I suppose the government could subsidize them, but it basically already does in the form of student aid. I can make similar arguments for pretty much any regulatory scheme you throw at me. Lower quality, higher prices, or both.\n",
      "Sentiment: -0.354\n",
      "The fact is that it's too little too late. Centrist democrats tend to give small incremental change making things slightly better overtime. (better in my worldview) this could be said about a centrist candidate on either side.\n",
      "Sentiment: -0.188\n",
      "No as in the Puritanical undercurrent of American culture. \n",
      "Sentiment: -0.312\n",
      "Actually it might. It will make investors more hesitant to invest in oil companies, because the likelihood of them getting any of their money back if it goes south will be practically nonexistent.\n",
      "Sentiment: -0.562\n",
      "Lol yes, we're on the same side here. \n",
      "Sentiment: -0.417\n",
      "That's how the world works. It's a sine wave.\n",
      "Sentiment: -0.021\n",
      "\"Venezuelans, what is your profession?!\"\n",
      "Sentiment: 0.312\n",
      "Equip myself. \"If it bleeds,I can kill it\"\n",
      "Sentiment: 0.087\n",
      "Poor girls go to work in an office because they cannot all be prime ministers\n"
     ]
    }
   ],
   "source": [
    "# Grab a random sample of comments and print em\n",
    "sample = df.sample(10)\n",
    "\n",
    "for _, row in sample.iterrows():\n",
    "    print('Sentiment:', row['score'])\n",
    "    print(row['body'])"
   ]
  },
  {
   "cell_type": "code",
   "execution_count": 20,
   "metadata": {},
   "outputs": [
    {
     "name": "stdout",
     "output_type": "stream",
     "text": [
      "Worst comments\n",
      "--------------------------------------------------------------------------------\n",
      "Sentiment: 0.979\n",
      "Dumbass liberals.  You’d let anyone fuck you over.\n",
      "Sentiment: 0.958\n",
      "Yeah ok, shut the fuck up bitch. It’s Bernie or Bust 100% nobody is voting for Biden, now get the fuck out of here you cunt\n",
      "Sentiment: 0.938\n",
      "yeah you don’t know how it works, fuck off\n",
      "Sentiment: 0.938\n",
      "fuck you, you're just pretending to be blocked. get back to work RIGHT NOW you piece of shit piping\n",
      "Sentiment: 0.938\n",
      "If you stick your dick in crazy, the crazy sticks you\n",
      "Sentiment: 0.938\n",
      "\"He's a borderline rapist and that's just what we know about.  He can't possibly win -- did you hear what he said about grabbing pussy?  ZERO percent chance.  He's a fucking trainwreck.\"\n",
      "\n",
      "Me.  Before losing all faith in humanity.\n",
      "Sentiment: 0.938\n",
      "Your monstrosity of a forehead almost distracted me from that atrocious hoodie/vest/whatever-the-fuck-it-is top.\n",
      "Sentiment: 0.938\n",
      "nah fuck that. we need war , climate disaster and hopefully end of mankind \n",
      "Sentiment: 0.917\n",
      "Holy fucking Mary you don’t know anything about Jesus. This is retarded enough for r/atheism. BRAVO sir/ma’am/it. \n",
      "Sentiment: 0.917\n",
      "so why should anyone give a flying fuck about what the average brit thinks?\n",
      "--------------------------------------------------------------------------------\n",
      "Best comments\n",
      "--------------------------------------------------------------------------------\n",
      "Sentiment: -0.889\n",
      "Fantastic. Have a great time!!\n",
      "\n",
      "&#x200B;\n",
      "\n",
      "&#x200B;\n",
      "Sentiment: -0.875\n",
      "So so awesome. Really want to see more. \n",
      "Sentiment: -0.812\n",
      "Thanks! That's what I wanted to know.\n",
      "Sentiment: -0.812\n",
      "I'll do it for free!\n",
      "Sentiment: -0.812\n",
      "that's my girlfriend's favorite chair.\n",
      "Sentiment: -0.812\n",
      "I love everything about this.\n",
      "Sentiment: -0.812\n",
      "Wow. Your great-grandfather is awesome.\n",
      "Sentiment: -0.812\n",
      "Truly gave me a smile\n",
      "Sentiment: -0.792\n",
      "Is it organic? I do so hope it is.\n",
      "Sentiment: -0.792\n",
      "That was VERY insightful. Thank you for sharing. \n"
     ]
    }
   ],
   "source": [
    "# Take a look at the best and worst comments\n",
    "# Note: highest values are the worst comments\n",
    "print(\"Worst comments\")\n",
    "print(\"-\"*80)\n",
    "for _, row in df.sort_values(by='score', ascending=False).head(10).iterrows():\n",
    "    print('Sentiment:', row['score'])\n",
    "    print(row['body'])\n",
    "    \n",
    "print(\"-\"*80)\n",
    "print(\"Best comments\")\n",
    "print(\"-\"*80)\n",
    "for _, row in df.sort_values(by='score', ascending=True).head(10).iterrows():\n",
    "    print('Sentiment:', row['score'])\n",
    "    print(row['body'])"
   ]
  },
  {
   "cell_type": "code",
   "execution_count": 21,
   "metadata": {},
   "outputs": [
    {
     "data": {
      "text/plain": [
       "<AxesSubplot:xlabel='score', ylabel='Count'>"
      ]
     },
     "execution_count": 21,
     "metadata": {},
     "output_type": "execute_result"
    },
    {
     "data": {
      "image/png": "[encoded data removed]",
      "text/plain": [
       "<Figure size 640x480 with 1 Axes>"
      ]
     },
     "metadata": {},
     "output_type": "display_data"
    }
   ],
   "source": [
    "# Range of scores\n",
    "sns.histplot(df['score'], bins=30)"
   ]
  },
  {
   "cell_type": "markdown",
   "metadata": {},
   "source": [
    "# Reddit Comments Scores EDA"
   ]
  },
  {
   "cell_type": "code",
   "execution_count": 22,
   "metadata": {},
   "outputs": [],
   "source": [
    "# Load up the dataframes\n",
    "pos_path = os.path.join(os.pardir, 'raw_data', 'comments_positive.csv')\n",
    "neg_path = os.path.join(os.pardir, 'raw_data', 'comments_negative.csv')\n",
    "\n",
    "df_pos = pd.read_csv(pos_path)\n",
    "df_neg = pd.read_csv(neg_path)"
   ]
  },
  {
   "cell_type": "code",
   "execution_count": 23,
   "metadata": {},
   "outputs": [],
   "source": [
    "# Merge the dataframes because why are they even separate\n",
    "df_2 = pd.concat([df_pos, df_neg])"
   ]
  },
  {
   "cell_type": "code",
   "execution_count": 24,
   "metadata": {},
   "outputs": [
    {
     "data": {
      "text/html": [
       "<div>\n",
       "<style scoped>\n",
       "    .dataframe tbody tr th:only-of-type {\n",
       "        vertical-align: middle;\n",
       "    }\n",
       "\n",
       "    .dataframe tbody tr th {\n",
       "        vertical-align: top;\n",
       "    }\n",
       "\n",
       "    .dataframe thead th {\n",
       "        text-align: right;\n",
       "    }\n",
       "</style>\n",
       "<table border=\"1\" class=\"dataframe\">\n",
       "  <thead>\n",
       "    <tr style=\"text-align: right;\">\n",
       "      <th></th>\n",
       "      <th>id</th>\n",
       "      <th>parent_id</th>\n",
       "      <th>subreddit_id</th>\n",
       "      <th>link_id</th>\n",
       "      <th>text</th>\n",
       "      <th>score</th>\n",
       "      <th>ups</th>\n",
       "      <th>author</th>\n",
       "      <th>controversiality</th>\n",
       "      <th>parent_link_id</th>\n",
       "      <th>parent_text</th>\n",
       "      <th>parent_score</th>\n",
       "      <th>parent_ups</th>\n",
       "      <th>parent_author</th>\n",
       "      <th>parent_controversiality</th>\n",
       "    </tr>\n",
       "  </thead>\n",
       "  <tbody>\n",
       "    <tr>\n",
       "      <th>0</th>\n",
       "      <td>c092j8m</td>\n",
       "      <td>t1_c092gss</td>\n",
       "      <td>t5_2qh2p</td>\n",
       "      <td>t3_8eyy3</td>\n",
       "      <td>This isn't Twitter: try to comment on the arti...</td>\n",
       "      <td>9582</td>\n",
       "      <td>9582</td>\n",
       "      <td>nraustinii</td>\n",
       "      <td>0</td>\n",
       "      <td>t3_8eyy3</td>\n",
       "      <td>Fucking faggot.</td>\n",
       "      <td>-7526</td>\n",
       "      <td>-7526</td>\n",
       "      <td>Glorificus</td>\n",
       "      <td>0</td>\n",
       "    </tr>\n",
       "    <tr>\n",
       "      <th>1</th>\n",
       "      <td>c4imcva</td>\n",
       "      <td>t1_c4im948</td>\n",
       "      <td>t5_2qh1i</td>\n",
       "      <td>t3_t0ynr</td>\n",
       "      <td>Well, it is exactly what it sounds like. It's ...</td>\n",
       "      <td>9531</td>\n",
       "      <td>9531</td>\n",
       "      <td>Lynfect</td>\n",
       "      <td>0</td>\n",
       "      <td>t3_t0ynr</td>\n",
       "      <td>Elaborate on this cum box, please.</td>\n",
       "      <td>3841</td>\n",
       "      <td>3841</td>\n",
       "      <td>eeeeevil</td>\n",
       "      <td>0</td>\n",
       "    </tr>\n",
       "    <tr>\n",
       "      <th>2</th>\n",
       "      <td>c0s4nfi</td>\n",
       "      <td>t1_c0s4lje</td>\n",
       "      <td>t5_2qh1i</td>\n",
       "      <td>t3_cf1n2</td>\n",
       "      <td>In soviet Russia, bomb disarms you!</td>\n",
       "      <td>8545</td>\n",
       "      <td>8545</td>\n",
       "      <td>CapnScumbone</td>\n",
       "      <td>0</td>\n",
       "      <td>t3_cf1n2</td>\n",
       "      <td>I don't live in Russia anymore, and I will not...</td>\n",
       "      <td>621</td>\n",
       "      <td>621</td>\n",
       "      <td>shady8x</td>\n",
       "      <td>0</td>\n",
       "    </tr>\n",
       "    <tr>\n",
       "      <th>3</th>\n",
       "      <td>c4ini33</td>\n",
       "      <td>t1_c4incln</td>\n",
       "      <td>t5_2qh1i</td>\n",
       "      <td>t3_t0ynr</td>\n",
       "      <td>\"runin for senitur! #YOLO!\"</td>\n",
       "      <td>7430</td>\n",
       "      <td>7430</td>\n",
       "      <td>[deleted]</td>\n",
       "      <td>0</td>\n",
       "      <td>t3_t0ynr</td>\n",
       "      <td>This just made me realize that future presiden...</td>\n",
       "      <td>4651</td>\n",
       "      <td>4651</td>\n",
       "      <td>drspg99</td>\n",
       "      <td>0</td>\n",
       "    </tr>\n",
       "    <tr>\n",
       "      <th>4</th>\n",
       "      <td>c4imgel</td>\n",
       "      <td>t1_c4ima2e</td>\n",
       "      <td>t5_2qh1i</td>\n",
       "      <td>t3_t0ynr</td>\n",
       "      <td>You step motherfucker.</td>\n",
       "      <td>7173</td>\n",
       "      <td>7173</td>\n",
       "      <td>jbg89</td>\n",
       "      <td>0</td>\n",
       "      <td>t3_t0ynr</td>\n",
       "      <td>I have sex with my step mom when my dad isn't ...</td>\n",
       "      <td>4251</td>\n",
       "      <td>4251</td>\n",
       "      <td>audir8</td>\n",
       "      <td>0</td>\n",
       "    </tr>\n",
       "  </tbody>\n",
       "</table>\n",
       "</div>"
      ],
      "text/plain": [
       "        id   parent_id subreddit_id   link_id  \\\n",
       "0  c092j8m  t1_c092gss     t5_2qh2p  t3_8eyy3   \n",
       "1  c4imcva  t1_c4im948     t5_2qh1i  t3_t0ynr   \n",
       "2  c0s4nfi  t1_c0s4lje     t5_2qh1i  t3_cf1n2   \n",
       "3  c4ini33  t1_c4incln     t5_2qh1i  t3_t0ynr   \n",
       "4  c4imgel  t1_c4ima2e     t5_2qh1i  t3_t0ynr   \n",
       "\n",
       "                                                text  score   ups  \\\n",
       "0  This isn't Twitter: try to comment on the arti...   9582  9582   \n",
       "1  Well, it is exactly what it sounds like. It's ...   9531  9531   \n",
       "2                In soviet Russia, bomb disarms you!   8545  8545   \n",
       "3                        \"runin for senitur! #YOLO!\"   7430  7430   \n",
       "4                             You step motherfucker.   7173  7173   \n",
       "\n",
       "         author  controversiality parent_link_id  \\\n",
       "0    nraustinii                 0       t3_8eyy3   \n",
       "1       Lynfect                 0       t3_t0ynr   \n",
       "2  CapnScumbone                 0       t3_cf1n2   \n",
       "3     [deleted]                 0       t3_t0ynr   \n",
       "4         jbg89                 0       t3_t0ynr   \n",
       "\n",
       "                                         parent_text  parent_score  \\\n",
       "0                                    Fucking faggot.         -7526   \n",
       "1                 Elaborate on this cum box, please.          3841   \n",
       "2  I don't live in Russia anymore, and I will not...           621   \n",
       "3  This just made me realize that future presiden...          4651   \n",
       "4  I have sex with my step mom when my dad isn't ...          4251   \n",
       "\n",
       "   parent_ups parent_author  parent_controversiality  \n",
       "0       -7526    Glorificus                        0  \n",
       "1        3841      eeeeevil                        0  \n",
       "2         621       shady8x                        0  \n",
       "3        4651       drspg99                        0  \n",
       "4        4251        audir8                        0  "
      ]
     },
     "execution_count": 24,
     "metadata": {},
     "output_type": "execute_result"
    }
   ],
   "source": [
    "df_2.head()"
   ]
  },
  {
   "cell_type": "code",
   "execution_count": 25,
   "metadata": {},
   "outputs": [
    {
     "name": "stdout",
     "output_type": "stream",
     "text": [
      "<class 'pandas.core.frame.DataFrame'>\n",
      "Int64Index: 4000000 entries, 0 to 1999999\n",
      "Data columns (total 15 columns):\n",
      " #   Column                   Dtype \n",
      "---  ------                   ----- \n",
      " 0   id                       object\n",
      " 1   parent_id                object\n",
      " 2   subreddit_id             object\n",
      " 3   link_id                  object\n",
      " 4   text                     object\n",
      " 5   score                    int64 \n",
      " 6   ups                      int64 \n",
      " 7   author                   object\n",
      " 8   controversiality         int64 \n",
      " 9   parent_link_id           object\n",
      " 10  parent_text              object\n",
      " 11  parent_score             int64 \n",
      " 12  parent_ups               int64 \n",
      " 13  parent_author            object\n",
      " 14  parent_controversiality  int64 \n",
      "dtypes: int64(6), object(9)\n",
      "memory usage: 488.3+ MB\n"
     ]
    }
   ],
   "source": [
    "df_2.info()"
   ]
  },
  {
   "cell_type": "code",
   "execution_count": 26,
   "metadata": {},
   "outputs": [
    {
     "data": {
      "text/html": [
       "<div>\n",
       "<style scoped>\n",
       "    .dataframe tbody tr th:only-of-type {\n",
       "        vertical-align: middle;\n",
       "    }\n",
       "\n",
       "    .dataframe tbody tr th {\n",
       "        vertical-align: top;\n",
       "    }\n",
       "\n",
       "    .dataframe thead th {\n",
       "        text-align: right;\n",
       "    }\n",
       "</style>\n",
       "<table border=\"1\" class=\"dataframe\">\n",
       "  <thead>\n",
       "    <tr style=\"text-align: right;\">\n",
       "      <th></th>\n",
       "      <th>score</th>\n",
       "      <th>ups</th>\n",
       "      <th>controversiality</th>\n",
       "      <th>parent_score</th>\n",
       "      <th>parent_ups</th>\n",
       "      <th>parent_controversiality</th>\n",
       "    </tr>\n",
       "  </thead>\n",
       "  <tbody>\n",
       "    <tr>\n",
       "      <th>count</th>\n",
       "      <td>4.000000e+06</td>\n",
       "      <td>4.000000e+06</td>\n",
       "      <td>4.000000e+06</td>\n",
       "      <td>4.000000e+06</td>\n",
       "      <td>4.000000e+06</td>\n",
       "      <td>4.000000e+06</td>\n",
       "    </tr>\n",
       "    <tr>\n",
       "      <th>mean</th>\n",
       "      <td>9.189241e+01</td>\n",
       "      <td>9.189241e+01</td>\n",
       "      <td>8.262500e-04</td>\n",
       "      <td>2.185056e+02</td>\n",
       "      <td>2.185056e+02</td>\n",
       "      <td>1.706750e-03</td>\n",
       "    </tr>\n",
       "    <tr>\n",
       "      <th>std</th>\n",
       "      <td>2.117502e+02</td>\n",
       "      <td>2.117502e+02</td>\n",
       "      <td>2.873269e-02</td>\n",
       "      <td>4.340878e+02</td>\n",
       "      <td>4.340878e+02</td>\n",
       "      <td>4.127757e-02</td>\n",
       "    </tr>\n",
       "    <tr>\n",
       "      <th>min</th>\n",
       "      <td>-2.946000e+03</td>\n",
       "      <td>-2.946000e+03</td>\n",
       "      <td>0.000000e+00</td>\n",
       "      <td>-8.907000e+03</td>\n",
       "      <td>-8.907000e+03</td>\n",
       "      <td>0.000000e+00</td>\n",
       "    </tr>\n",
       "    <tr>\n",
       "      <th>25%</th>\n",
       "      <td>-1.000000e+01</td>\n",
       "      <td>-1.000000e+01</td>\n",
       "      <td>0.000000e+00</td>\n",
       "      <td>1.300000e+01</td>\n",
       "      <td>1.300000e+01</td>\n",
       "      <td>0.000000e+00</td>\n",
       "    </tr>\n",
       "    <tr>\n",
       "      <th>50%</th>\n",
       "      <td>3.000000e+01</td>\n",
       "      <td>3.000000e+01</td>\n",
       "      <td>0.000000e+00</td>\n",
       "      <td>6.600000e+01</td>\n",
       "      <td>6.600000e+01</td>\n",
       "      <td>0.000000e+00</td>\n",
       "    </tr>\n",
       "    <tr>\n",
       "      <th>75%</th>\n",
       "      <td>1.160000e+02</td>\n",
       "      <td>1.160000e+02</td>\n",
       "      <td>0.000000e+00</td>\n",
       "      <td>2.250000e+02</td>\n",
       "      <td>2.250000e+02</td>\n",
       "      <td>0.000000e+00</td>\n",
       "    </tr>\n",
       "    <tr>\n",
       "      <th>max</th>\n",
       "      <td>9.582000e+03</td>\n",
       "      <td>9.582000e+03</td>\n",
       "      <td>1.000000e+00</td>\n",
       "      <td>1.477600e+04</td>\n",
       "      <td>1.477600e+04</td>\n",
       "      <td>1.000000e+00</td>\n",
       "    </tr>\n",
       "  </tbody>\n",
       "</table>\n",
       "</div>"
      ],
      "text/plain": [
       "              score           ups  controversiality  parent_score  \\\n",
       "count  4.000000e+06  4.000000e+06      4.000000e+06  4.000000e+06   \n",
       "mean   9.189241e+01  9.189241e+01      8.262500e-04  2.185056e+02   \n",
       "std    2.117502e+02  2.117502e+02      2.873269e-02  4.340878e+02   \n",
       "min   -2.946000e+03 -2.946000e+03      0.000000e+00 -8.907000e+03   \n",
       "25%   -1.000000e+01 -1.000000e+01      0.000000e+00  1.300000e+01   \n",
       "50%    3.000000e+01  3.000000e+01      0.000000e+00  6.600000e+01   \n",
       "75%    1.160000e+02  1.160000e+02      0.000000e+00  2.250000e+02   \n",
       "max    9.582000e+03  9.582000e+03      1.000000e+00  1.477600e+04   \n",
       "\n",
       "         parent_ups  parent_controversiality  \n",
       "count  4.000000e+06             4.000000e+06  \n",
       "mean   2.185056e+02             1.706750e-03  \n",
       "std    4.340878e+02             4.127757e-02  \n",
       "min   -8.907000e+03             0.000000e+00  \n",
       "25%    1.300000e+01             0.000000e+00  \n",
       "50%    6.600000e+01             0.000000e+00  \n",
       "75%    2.250000e+02             0.000000e+00  \n",
       "max    1.477600e+04             1.000000e+00  "
      ]
     },
     "execution_count": 26,
     "metadata": {},
     "output_type": "execute_result"
    }
   ],
   "source": [
    "df_2.describe()"
   ]
  },
  {
   "cell_type": "code",
   "execution_count": 27,
   "metadata": {},
   "outputs": [
    {
     "data": {
      "text/plain": [
       "id                         0\n",
       "parent_id                  0\n",
       "subreddit_id               0\n",
       "link_id                    0\n",
       "text                       0\n",
       "score                      0\n",
       "ups                        0\n",
       "author                     0\n",
       "controversiality           0\n",
       "parent_link_id             0\n",
       "parent_text                0\n",
       "parent_score               0\n",
       "parent_ups                 0\n",
       "parent_author              0\n",
       "parent_controversiality    0\n",
       "dtype: int64"
      ]
     },
     "execution_count": 27,
     "metadata": {},
     "output_type": "execute_result"
    }
   ],
   "source": [
    "# Are there any deleted comments? (No)\n",
    "df_2[df_2['text'] == '[deleted]'].count()"
   ]
  },
  {
   "cell_type": "code",
   "execution_count": 28,
   "metadata": {},
   "outputs": [],
   "source": [
    "# Normalise the scores to make them between -1 and 1\n",
    "# This is actually not so simple because positive comments and negative comments should be normalised separately\n",
    "mask = df_2['score'] > 0\n",
    "df_2.loc[mask, 'score_norm'] = df_2[mask]['score'] / df_2[mask]['score'].max()\n",
    "df_2.loc[~mask, 'score_norm'] = df_2[~mask]['score'] / abs(df_2[~mask]['score'].min())"
   ]
  },
  {
   "cell_type": "code",
   "execution_count": 29,
   "metadata": {},
   "outputs": [
    {
     "data": {
      "text/plain": [
       "count    4.000000e+06\n",
       "mean     7.870814e-03\n",
       "std      2.331474e-02\n",
       "min     -1.000000e+00\n",
       "25%     -3.394433e-03\n",
       "50%      2.425627e-03\n",
       "75%      1.210603e-02\n",
       "max      1.000000e+00\n",
       "Name: score_norm, dtype: float64"
      ]
     },
     "execution_count": 29,
     "metadata": {},
     "output_type": "execute_result"
    }
   ],
   "source": [
    "df_2['score_norm'].describe()"
   ]
  },
  {
   "cell_type": "code",
   "execution_count": 30,
   "metadata": {},
   "outputs": [
    {
     "data": {
      "text/plain": [
       "<AxesSubplot:xlabel='score_norm', ylabel='Count'>"
      ]
     },
     "execution_count": 30,
     "metadata": {},
     "output_type": "execute_result"
    },
    {
     "data": {
      "image/png": "[encoded data removed]",
      "text/plain": [
       "<Figure size 640x480 with 1 Axes>"
      ]
     },
     "metadata": {},
     "output_type": "display_data"
    }
   ],
   "source": [
    "# Plot the scores\n",
    "sns.histplot(df_2['score_norm'], bins=60)"
   ]
  },
  {
   "cell_type": "code",
   "execution_count": 31,
   "metadata": {},
   "outputs": [],
   "source": [
    "# This poses a problem because many scores are around 0 and provide very little information\n",
    "# Maybe the upvote / score ratio is more useful? The higher this is the more upvotes there are\n",
    "# We would also need to balance this so that comments with very little upvotes are not overrepresented\n",
    "df_2['upvote_ratio'] = df_2['score'] / df_2['ups']"
   ]
  },
  {
   "cell_type": "code",
   "execution_count": 32,
   "metadata": {},
   "outputs": [
    {
     "data": {
      "text/plain": [
       "id                         0\n",
       "parent_id                  0\n",
       "subreddit_id               0\n",
       "link_id                    0\n",
       "text                       0\n",
       "score                      0\n",
       "ups                        0\n",
       "author                     0\n",
       "controversiality           0\n",
       "parent_link_id             0\n",
       "parent_text                0\n",
       "parent_score               0\n",
       "parent_ups                 0\n",
       "parent_author              0\n",
       "parent_controversiality    0\n",
       "score_norm                 0\n",
       "upvote_ratio               0\n",
       "dtype: int64"
      ]
     },
     "execution_count": 32,
     "metadata": {},
     "output_type": "execute_result"
    }
   ],
   "source": [
    "# Well that's very fucking useful why are there even two columns then?\n",
    "df_2[df_2['upvote_ratio'] != 1].count()"
   ]
  },
  {
   "cell_type": "code",
   "execution_count": 33,
   "metadata": {},
   "outputs": [
    {
     "name": "stdout",
     "output_type": "stream",
     "text": [
      "Worst comments\n",
      "--------------------------------------------------------------------------------\n",
      "Score -1.0\n",
      "Na, not really. \n",
      "\n",
      "I just hate islam and everything it stands for. \n",
      "\n",
      "I don't want to share my streets, schools, stores, or any place else that I frequent, with muslims. They are beneath me and don't deserve to inhabit my country. \n",
      "\n",
      "I am sick of \"diversity\" and the poverty, crime, and lower standard of living that comes along with it. \n",
      "\n",
      "I am sick of leftist morons that keep trying to shove it down our throats yet it is painfully obvious to everyone these people do not belong in a civilized society. \n",
      "\n",
      "Do you think it's a coincidence the places they hail from are complete cesspools? It is because their culture is inferior to ours. \n",
      "\n",
      "They run from the mess they have created of their own homeland and instead of realizing their culture is inferior, they attempt to import their failed way of life into my country. \n",
      "\n",
      "They are slowly but surely destroying this country. It's spreading like cancer, look at California's problems which are a direct result of illegal Mexicans pouring across the boarder importing crime, disease, and poverty.\n",
      "\n",
      "Fuck islam, diversity, and the inferior cultures our politically correct and worthless politicians continue to push on everyone. And lastly, fuck you.\n",
      "Score -0.924643584521385\n",
      "lol you're some ugly ass white dude\n",
      "Score -0.723693143245078\n",
      "First of off, its not true, and second off, I don't want to answer questions about that. Lets focus on the film people.\n",
      "Score -0.718601493550577\n",
      "Who made you reddit police? I will submit whatever I want. \n",
      "Score -0.6659877800407332\n",
      "We gotta be...i consider my time valuable. \n",
      "Score -0.6588594704684317\n",
      "Oh, bitch please. You've been threatening to leave us for months. You're not leaving. You need the attention.\n",
      "Score -0.6262729124236253\n",
      "I upvoted you, but I think it's important to note that Reddit is a site that explicitly invites self-promotion when it's conducted in an appropriate manner. I personally don't find most of The Oatmeal's comics very funny (though the one about why he hates talking on the phone made me chuckle) but he's a friendly fellow who is nothing if not honest about that he's promoting his own sites and making money. He's also a decent cartoonist and seems to be a hard worker.\n",
      "\n",
      "In short, if he's \"gaming the system\" by creating original content that people like and presenting it in an attractive manner that's not full of gratuitous ugly ads, more power to him. I'd rather have 100 like him on Reddit than the people who start a blog and post one stolen image at a time with five or six Google ads per page and then spam it to r/pics.\n",
      "Score -0.6116768499660556\n",
      "How about  let the game speak for itself? I want this subreddit to focus on the game itself and not the people surrounding it. This was a goal set for this community from the very beginning and it will not change. I don't care what Jay Wilson said on facebook, people are allowed to express themselves negatively or positively however they want, but at the end of the day we are here to play Diablo.\n",
      "Score -0.5964019008825526\n",
      "I don't think thats the most technologically advanced thing. Neat from a sci-fi point of reference, but what's the big deal? We send shit into space all the time.\n",
      "Score -0.5627970128988459\n",
      "This was my [50th downvote](http://i.imgur.com/u57Ga.jpg)!\n",
      "\n",
      "I have no idea what my contributed downvote ratio is, though. :(\n",
      "--------------------------------------------------------------------------------\n",
      "Best comments\n",
      "--------------------------------------------------------------------------------\n",
      "Score 1.0\n",
      "This isn't Twitter: try to comment on the article, and not your current activities.\n",
      "Score 0.9946775203506575\n",
      "Well, it is exactly what it sounds like. It's a shoebox, or at least once was, and whenever I masturbate I cum into it. I've had it for two or three years now I think, so it has a fair amount of cum. It smells atrocious, and I tried to burn it once. When I lit it on fire, it was too damp due to the cum that it simply sizzled and didn't manage to actually lite up. Turns out burning cum smells awful, so I had to spray it with a deodorant body spray just to get the old smell of burnt cum away. It also has some drenched papers stuck to it. That's pretty much it.\n",
      "\n",
      "Because people were asking, [my greatest shame.](http://imgur.com/a/UD5Lo#ZLkrA)\n",
      "\n",
      "EDIT 2: A lot of people are asking me, why? Well, I'm apparently a rather disturbed individual. But, it just kind of happened, bought new shoes and needed someplace to cum, used the box. It just escalated from there, kept using it each time, telling myself I would throw it out soon. Never did, two or three years later, I still have it. It was planned or anything, it just happened.\n",
      "\n",
      "EDIT 3: Fuck, this really exploded. ~20,000+ views of my cum box. Did not expect this.\n",
      "\n",
      "Edit 4: I often get PMed about updates or current status of the box, generally a few a week. So I might as well update this post, if anyone even gets linked here anymore. Current status, I have created life. Mold has begun to grow in the box and has taken over a fair amount. Smells a bit worse, mainly due to a damper apartment so it does not dry as fast, hence the reason why the mold has begun. [New picture.](http://imgur.com/Gs5ur) \n",
      "\n",
      "I will never be rid of my need for it. I hate and love the box, just as I hate and love myself.\n",
      "\n",
      "[Also, what the fuck 2.7million views. Never could have expected this outcome.](/spoiler)\n",
      "Score 0.8917762471300354\n",
      "In soviet Russia, bomb disarms you!\n",
      "Score 0.7754122312669589\n",
      "\"runin for senitur! #YOLO!\"\n",
      "Score 0.7485911083281153\n",
      "You step motherfucker.\n",
      "Score 0.726883740346483\n",
      "Isn't this putting Descartes before the whores? \n",
      "Score 0.6762680025046963\n",
      "WHAT THE FUCK\n",
      "Score 0.5977875182634106\n",
      "because i'm serious about my dancing\n",
      "Score 0.5952828219578377\n",
      "Dude. This is bad news.\n",
      "\n",
      "I'm not being all moral high horse or anything, but both you and your dad have a serious problem.\n",
      "\n",
      "You've both got a masterful manipulator in your house. I'm not being all down on your for sleeping with her or anything - but now she has leverage over you and your relationship with your dad. \n",
      "\n",
      "This woman is trouble. She may destroy your fathers life, and maybe even your own. She will have no trouble doing this if she gets backed into a corner and can save her ass by throwing you under a bus.\n",
      "\n",
      "Take care.\n",
      "\n",
      "Score 0.5937173867668545\n",
      "I also find it ironic that 72 virgins are attacking these terrorists.\n"
     ]
    },
    {
     "ename": "",
     "evalue": "",
     "output_type": "error",
     "traceback": [
      "\u001b[1;31mThe Kernel crashed while executing code in the the current cell or a previous cell. Please review the code in the cell(s) to identify a possible cause of the failure. Click <a href='https://aka.ms/vscodeJupyterKernelCrash'>here</a> for more info. View Jupyter <a href='command:jupyter.viewOutput'>log</a> for further details."
     ]
    }
   ],
   "source": [
    "# Show most and least negative comments\n",
    "print(\"Worst comments\")\n",
    "print(\"-\"*80)\n",
    "for _, row in df_2.sort_values('score', ascending=True).head(10).iterrows():\n",
    "    print('Score', row['score_norm'])\n",
    "    print(row['text'])\n",
    "\n",
    "print(\"-\"*80)\n",
    "print(\"Best comments\")\n",
    "print(\"-\"*80)\n",
    "for _, row in df_2.sort_values('score', ascending=False).head(10).iterrows():\n",
    "    print('Score', row['score_norm'])\n",
    "    print(row['text'])"
   ]
  },
  {
   "cell_type": "code",
   "execution_count": null,
   "metadata": {},
   "outputs": [],
   "source": []
  }
 ],
 "metadata": {
  "kernelspec": {
   "display_name": "Python 3",
   "language": "python",
   "name": "python3"
  },
  "language_info": {
   "codemirror_mode": {
    "name": "ipython",
    "version": 3
   },
   "file_extension": ".py",
   "mimetype": "text/x-python",
   "name": "python",
   "nbconvert_exporter": "python",
   "pygments_lexer": "ipython3",
   "version": "3.10.6"
  },
  "orig_nbformat": 4
 },
 "nbformat": 4,
 "nbformat_minor": 2
}
